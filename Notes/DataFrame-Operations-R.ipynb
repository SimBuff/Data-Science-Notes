{
 "cells": [
  {
   "cell_type": "markdown",
   "metadata": {},
   "source": [
    "## Melting and Casting in R\n",
    "Melting and casting in R are the functions that can be used efficiently to reshape the data. melt() reshape from wide to long data frame while cast() reshape from long to wide. <br>\n",
    "Refer to https://www.datasciencemadesimple.com/melting-casting-r/"
   ]
  },
  {
   "cell_type": "code",
   "execution_count": 50,
   "metadata": {},
   "outputs": [],
   "source": [
    "#install.packages(\"reshape2\")\n",
    "library(reshape2)\n",
    "library(knitr)\n",
    "options(warn=-1)\n",
    "options(knitr.table.format = \"rst\")"
   ]
  },
  {
   "cell_type": "markdown",
   "metadata": {},
   "source": [
    "### Melt"
   ]
  },
  {
   "cell_type": "markdown",
   "metadata": {},
   "source": [
    "The **melt** function takes data in wide format and stacks a set of columns into a single columns into a single column of data.<br>"
   ]
  },
  {
   "cell_type": "markdown",
   "metadata": {},
   "source": [
    "\n",
    "\n",
    "<img src=\"./Figures/MeltingAndCastingInR/melt.png\">"
   ]
  },
  {
   "cell_type": "code",
   "execution_count": 4,
   "metadata": {},
   "outputs": [],
   "source": [
    "country<-data.frame(c(\"A\",\"B\",\"C\"),c(100,200,120),c(2000,7000,15000))\n",
    "colnames(country)<- c(\"countries\",\"population_in_million\",\"gdp_percapita\")"
   ]
  },
  {
   "cell_type": "code",
   "execution_count": 40,
   "metadata": {},
   "outputs": [
    {
     "data": {
      "text/plain": [
       "\n",
       "\n",
       "=========  =====================  =============\n",
       "countries  population_in_million  gdp_percapita\n",
       "=========  =====================  =============\n",
       "    A               100               2000     \n",
       "    B               200               7000     \n",
       "    C               120               15000    \n",
       "=========  =====================  ============="
      ]
     },
     "metadata": {},
     "output_type": "display_data"
    }
   ],
   "source": [
    "kable(country,\"rst\",align=\"ccc\")"
   ]
  },
  {
   "cell_type": "code",
   "execution_count": 45,
   "metadata": {},
   "outputs": [
    {
     "data": {
      "text/plain": [
       "\n",
       "\n",
       "=========  =====================  =====\n",
       "countries  variable               value\n",
       "=========  =====================  =====\n",
       "A          population_in_million    100\n",
       "B          population_in_million    200\n",
       "C          population_in_million    120\n",
       "A          gdp_percapita           2000\n",
       "B          gdp_percapita           7000\n",
       "C          gdp_percapita          15000\n",
       "=========  =====================  ====="
      ]
     },
     "metadata": {},
     "output_type": "display_data"
    }
   ],
   "source": [
    "country_w2l = melt(country,id.vars=c(\"countries\"))\n",
    "knitr::kable(country_w2l,\"rst\")"
   ]
  },
  {
   "cell_type": "markdown",
   "metadata": {},
   "source": [
    "### Dcast"
   ]
  },
  {
   "cell_type": "code",
   "execution_count": 49,
   "metadata": {},
   "outputs": [
    {
     "data": {
      "text/plain": [
       "\n",
       "\n",
       "=========  =====================  =====\n",
       "countries  variable               value\n",
       "=========  =====================  =====\n",
       "A          population_in_million    100\n",
       "B          population_in_million    200\n",
       "C          population_in_million    120\n",
       "A          gdp_percapita           2000\n",
       "B          gdp_percapita           7000\n",
       "C          gdp_percapita          15000\n",
       "=========  =====================  ====="
      ]
     },
     "metadata": {},
     "output_type": "display_data"
    }
   ],
   "source": [
    "kable(country_w2l,\"rst\")"
   ]
  },
  {
   "cell_type": "code",
   "execution_count": 57,
   "metadata": {},
   "outputs": [],
   "source": [
    "## if overlaying elements found, summation is displayed. The default value column here. If you want to sepcify value column, use value.var =\"col.name\"\n",
    "country_l2w = dcast(country_w2l,countries~variable,sum) "
   ]
  },
  {
   "cell_type": "code",
   "execution_count": 46,
   "metadata": {},
   "outputs": [
    {
     "data": {
      "text/plain": [
       "\n",
       "\n",
       "=========  =====================  =============\n",
       "countries  population_in_million  gdp_percapita\n",
       "=========  =====================  =============\n",
       "A                            100           2000\n",
       "B                            200           7000\n",
       "C                            120          15000\n",
       "=========  =====================  ============="
      ]
     },
     "metadata": {},
     "output_type": "display_data"
    }
   ],
   "source": [
    "kable(country_l2w,\"rst\")"
   ]
  },
  {
   "cell_type": "markdown",
   "metadata": {},
   "source": [
    "## Data Frame Display"
   ]
  },
  {
   "cell_type": "markdown",
   "metadata": {},
   "source": [
    "### Knitr::kable\n",
    "kable is a very simple table generator. It can display tables in different formats including \"rst\",\"html\", \"latex\" and so on. Other parameters include \"row.names\", \"col.names\" and \"align\"."
   ]
  },
  {
   "cell_type": "code",
   "execution_count": 56,
   "metadata": {},
   "outputs": [
    {
     "data": {
      "text/plain": [
       "\n",
       "\n",
       "===  =========  ===========  ==========\n",
       "\\    countries  pop_in_mill  gdp_percap\n",
       "===  =========  ===========  ==========\n",
       "1        A          100         2000   \n",
       "2        B          200         7000   \n",
       "3        C          120        15000   \n",
       "===  =========  ===========  =========="
      ]
     },
     "metadata": {},
     "output_type": "display_data"
    }
   ],
   "source": [
    "## display data frame country with \"rst\" format, center aligned for each column, column names specified and row.names included.\n",
    "kable(country,\"rst\",align=\"ccc\",col.names=c(\"countries\",\"pop_in_mill\",\"gdp_percap\"),row.names=TRUE)"
   ]
  }
 ],
 "metadata": {
  "kernelspec": {
   "display_name": "R",
   "language": "R",
   "name": "ir"
  },
  "language_info": {
   "codemirror_mode": "r",
   "file_extension": ".r",
   "mimetype": "text/x-r-source",
   "name": "R",
   "pygments_lexer": "r",
   "version": "3.6.1"
  }
 },
 "nbformat": 4,
 "nbformat_minor": 2
}
